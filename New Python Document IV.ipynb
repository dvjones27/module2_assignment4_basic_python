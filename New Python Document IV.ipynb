{
 "cells": [
  {
   "cell_type": "markdown",
   "metadata": {},
   "source": [
    "# Object-Oriented-Programming (OOP)"
   ]
  },
  {
   "cell_type": "markdown",
   "metadata": {},
   "source": [
    "## Tasks Today:\n",
    "\n",
    "   \n",
    "\n",
    "1) <b>Creating a Class (Initializing/Declaring)</b> <br>\n",
    "2) <b>Using a Class (Instantiating)</b> <br>\n",
    " &nbsp;&nbsp;&nbsp;&nbsp; a) Creating One Instance <br>\n",
    " &nbsp;&nbsp;&nbsp;&nbsp; b) Creating Multiple Instances <br>\n",
    " &nbsp;&nbsp;&nbsp;&nbsp; c) In-Class Exercise #1 - Create a Class 'Car' and instantiate three different makes of cars <br>\n",
    "3) <b>The \\__init\\__() Method</b> <br>\n",
    " &nbsp;&nbsp;&nbsp;&nbsp; a) The 'self' Attribute <br>\n",
    "4) <b>Class Attributes</b> <br>\n",
    " &nbsp;&nbsp;&nbsp;&nbsp; a) Initializing Attributes <br>\n",
    " &nbsp;&nbsp;&nbsp;&nbsp; b) Setting an Attribute Outside of the \\__init\\__() Method <br>\n",
    " &nbsp;&nbsp;&nbsp;&nbsp; c) Setting Defaults for Attributes <br>\n",
    " &nbsp;&nbsp;&nbsp;&nbsp; d) Accessing Class Attributes <br>\n",
    " &nbsp;&nbsp;&nbsp;&nbsp; e) Changing Class Attributes <br>\n",
    " &nbsp;&nbsp;&nbsp;&nbsp; f) In-Class Exercise #2 - Add a color and wheels attribute to your 'Car' class <br>\n",
    "5) <b>Class Methods</b> <br>\n",
    " &nbsp;&nbsp;&nbsp;&nbsp; a) Creating <br>\n",
    " &nbsp;&nbsp;&nbsp;&nbsp; b) Calling <br>\n",
    " &nbsp;&nbsp;&nbsp;&nbsp; c) Modifying an Attribute's Value Through a Method <br>\n",
    " &nbsp;&nbsp;&nbsp;&nbsp; d) Incrementing an Attribute's Value Through a Method <br>\n",
    " &nbsp;&nbsp;&nbsp;&nbsp; e) In-Class Exercise #3 - Add a method that prints the cars color and wheel number, then call them <br>\n",
    "6) <b>Inheritance</b> <br>\n",
    " &nbsp;&nbsp;&nbsp;&nbsp; a) Syntax for Inheriting from a Parent Class <br>\n",
    " &nbsp;&nbsp;&nbsp;&nbsp; b) The \\__init\\__() Method for a Child Class (super()) <br>\n",
    " &nbsp;&nbsp;&nbsp;&nbsp; c) Defining Attributes and Methods for the Child Class <br>\n",
    " &nbsp;&nbsp;&nbsp;&nbsp; d) Method Overriding <br>\n",
    " &nbsp;&nbsp;&nbsp;&nbsp; e) In-Class Exercise #4 - Create a class 'Ford' that inherits from 'Car' class and initialize it as a Blue Ford Explorer with 4 wheels using the super() method <br>\n",
    "7) <b>Classes as Attributes</b> <br>\n",
    "8) <b>Exercises</b> <br>\n",
    " &nbsp;&nbsp;&nbsp;&nbsp; a) Exercise #1 - Turn the shopping cart program from yesterday into an object-oriented program <br>"
   ]
  },
  {
   "cell_type": "markdown",
   "metadata": {},
   "source": [
    "## Creating a Class (Initializing/Declaring)\n",
    "<p>When creating a class, function, or even a variable you are initializing that object. Initializing and Declaring occur at the same time in Python, whereas in lower level languages you have to declare an object before initializing it. This is the first step in the process of using a class.</p>"
   ]
  },
  {
   "cell_type": "code",
   "execution_count": 29,
   "metadata": {},
   "outputs": [
    {
     "name": "stdout",
     "output_type": "stream",
     "text": [
      "Turn them on to prevent crashes!\n"
     ]
    }
   ],
   "source": [
    "class Car():\n",
    "    wheels = 4\n",
    "    color = \"Yellow\"\n",
    "    seats = \"Bucket\"\n",
    "    \n",
    "    def headlights():\n",
    "        print(\"Turn them on to prevent crashes!\")\n",
    "        \n",
    "        \n",
    "    headlights()\n",
    "    \n",
    "volvo = Car()\n",
    "# print(volvo.headlights)"
   ]
  },
  {
   "cell_type": "markdown",
   "metadata": {},
   "source": [
    "# Using a Class (Instantiating)\n",
    "<p>The process of creating a class is called <i>Instantiating</i>. Each time you create a variable of that type of class, it is referred to as an <i>Instance</i> of that class. This is the second step in the process of using a class.</p>"
   ]
  },
  {
   "cell_type": "markdown",
   "metadata": {},
   "source": [
    "##### Creating One Instance"
   ]
  },
  {
   "cell_type": "code",
   "execution_count": 7,
   "metadata": {},
   "outputs": [
    {
     "name": "stdout",
     "output_type": "stream",
     "text": [
      "Bucket\n"
     ]
    }
   ],
   "source": [
    "maybach = Car()\n",
    "print(maybach.seats)\n",
    "\n",
    "# chevrolet = Car()\n",
    "\n"
   ]
  },
  {
   "cell_type": "markdown",
   "metadata": {},
   "source": [
    "##### Creating Multiple Instances"
   ]
  },
  {
   "cell_type": "code",
   "execution_count": null,
   "metadata": {},
   "outputs": [],
   "source": [
    "chevrolet = Car()\n",
    "honda = Car()\n",
    "porsche = Car()"
   ]
  },
  {
   "cell_type": "markdown",
   "metadata": {},
   "source": [
    "##### In-Class Exercise #1 - Create a Class 'Car' and Instantiate three different makes of cars"
   ]
  },
  {
   "cell_type": "code",
   "execution_count": 23,
   "metadata": {},
   "outputs": [
    {
     "name": "stdout",
     "output_type": "stream",
     "text": [
      "The Honda has 4 doors.\n",
      "\n",
      "This is about the Toyota.\n",
      "\tThere are: 4 doors.\n",
      "\tThere is: 1 sunroof.\n",
      "\tThe color is: black.\n",
      "\n",
      "This car is a \"Mercedes\".\n",
      "\tThis car has: 1 moonroof.\n",
      "\tIt also has: manual transmission.\n"
     ]
    }
   ],
   "source": [
    "#doors, color, wheels, others of your own\n",
    "\n",
    "class Car:\n",
    "    doors = 4\n",
    "    windows_doors = 4\n",
    "    windshield_front = 1\n",
    "    windshield_rear = 1\n",
    "    sunroof = 1\n",
    "    moonroof = 1\n",
    "    windshield_wipers_front = 2\n",
    "    windshield_wipers_rear = 1\n",
    "    wheels = 4\n",
    "    brakes = wheels\n",
    "    color = \"black\"\n",
    "    heated_seats = 2\n",
    "    transmission_auto = \"automatic\"\n",
    "    transmission_manual = \"manual\"\n",
    "    \n",
    "    \n",
    "\n",
    "    \n",
    "honda = Car()\n",
    "print(f\"The Honda has {honda.doors} doors.\\n\")\n",
    "\n",
    "\n",
    "\n",
    "toyota = Car()\n",
    "print(f\"This is about the Toyota.\\n\\tThere are: {toyota.doors} doors.\\n\\tThere is: {toyota.sunroof} sunroof.\\n\\tThe color is: {toyota.color}.\\n\" )\n",
    "\n",
    "\n",
    "mercedes = Car()\n",
    "print(f\"This car is a \\\"Mercedes\\\".\\n\\tThis car has: {mercedes.moonroof} moonroof.\\n\\tIt also has: {mercedes.transmission_manual} transmission.\")"
   ]
  },
  {
   "cell_type": "markdown",
   "metadata": {},
   "source": [
    "## The \\__init\\__() Method <br>\n",
    "<p>This method is used in almost every created class, and called only once upon the creation of the class instance. This method will initialize all variables needed for the object.</p>"
   ]
  },
  {
   "cell_type": "code",
   "execution_count": 31,
   "metadata": {},
   "outputs": [
    {
     "name": "stdout",
     "output_type": "stream",
     "text": [
      "black\n",
      "purple\n"
     ]
    }
   ],
   "source": [
    "class Car():\n",
    "    engine = \"4.7 L\" #global variable within class\n",
    "    \n",
    "    def __init__(self, color, wheels):\n",
    "        self.color = color\n",
    "        self.wheels = wheels\n",
    "        \n",
    "\n",
    "mazda = Car(\"black\", 4)\n",
    "\n",
    "subuaru = Car(\"purple\", 6)\n",
    "print(mazda.color)\n",
    "print(subuaru.color)"
   ]
  },
  {
   "cell_type": "markdown",
   "metadata": {},
   "source": [
    "##### The 'self' Attribute <br>\n",
    "<p>This attribute is required to keep track of specific instance's attributes. Without the self attribute, the program would not know how to reference or keep track of an instance's attributes.</p>"
   ]
  },
  {
   "cell_type": "code",
   "execution_count": null,
   "metadata": {},
   "outputs": [],
   "source": [
    "# see above"
   ]
  },
  {
   "cell_type": "code",
   "execution_count": 101,
   "metadata": {},
   "outputs": [
    {
     "name": "stdout",
     "output_type": "stream",
     "text": [
      "Does the wall need art?no\n"
     ]
    },
    {
     "data": {
      "text/plain": [
       "'It is not time to put anything on the walls yet!'"
      ]
     },
     "execution_count": 101,
     "metadata": {},
     "output_type": "execute_result"
    }
   ],
   "source": [
    "class House():\n",
    "    def __init__(self, wall, dishes, floors):\n",
    "        self.wall = wall\n",
    "        self.dishes = dishes\n",
    "        self.floors = floors\n",
    "    \n",
    "    def wallArt(self, wall):\n",
    "        self.wall = input(\"Does the wall need art?\")\n",
    "        if self.wall.lower() == \"yes\":\n",
    "            return (f\"Let's get some art on te walls!\")\n",
    "        else: \n",
    "            return (f\"It is not time to put anything on the walls yet!\")\n",
    "\n",
    "    def washDishes(self, dishes):\n",
    "        self.dishes = input(\"Are the dishes clean or dirty?\")\n",
    "        if self.dishes.lower() == \"dirty\":\n",
    "            return \"Wash the Dishes\"\n",
    "        else: \n",
    "            return \"The dishes are clean!\"\n",
    "    \n",
    "    def cleanFloors(self, floors):\n",
    "        self.floors = input(f\"Are the floors clean or dirty?\")\n",
    "        if self.floors.lower() == \"dirty\":\n",
    "            floorWetorDry = input(f\"Do the floors need to be swept or mopped?\")\n",
    "            if floorWetorDry.lower() == \"swept\":\n",
    "                return (f\"Sweep the floor.\")\n",
    "            else:\n",
    "                return (f\"Mop the floor.\")\n",
    "        else:\n",
    "            return (f\"Awesome! The floors are clean!\")\n",
    "    \n",
    "    \n",
    "# new_house = House(\"clean\", \"dirty\", \"no\")\n",
    "\n",
    "\n",
    "# new_house.washDishes()\n",
    "# new_house.cleanFloors(\"\")\n",
    "new_house.wallArt(\"\")"
   ]
  },
  {
   "cell_type": "markdown",
   "metadata": {},
   "source": [
    "## Class Attributes <br>\n",
    "<p>While variables are inside of a class, they are referred to as attributes and not variables. When someone says 'attribute' you know they're speaking about a class. Attributes can be initialized through the init method, or outside of it.</p>"
   ]
  },
  {
   "cell_type": "markdown",
   "metadata": {},
   "source": [
    "##### Initializing Attributes"
   ]
  },
  {
   "cell_type": "code",
   "execution_count": 40,
   "metadata": {},
   "outputs": [],
   "source": [
    "class Toy():\n",
    "    kind = \"car\"\n",
    "    \n",
    "    \n",
    "    def __init__(self, rooftop, horn, wheels):\n",
    "        self.rooftop = rooftop\n",
    "        self.horn = horn\n",
    "        self.wheels = wheels\n",
    "        \n",
    "#         tonka_truck()\n",
    "#         hotwheels_truck()\n",
    "        \n",
    "tonka_truck = Toy(1, 1, 4)\n",
    "hotwheels_car = Toy(2, 5, 7)\n",
    "\n",
    "# print(tonka_truck)\n",
    "# print(hotwheels_truck)"
   ]
  },
  {
   "cell_type": "markdown",
   "metadata": {},
   "source": [
    "##### Accessing Class Attributes"
   ]
  },
  {
   "cell_type": "code",
   "execution_count": 41,
   "metadata": {
    "scrolled": true
   },
   "outputs": [
    {
     "data": {
      "text/plain": [
       "7"
      ]
     },
     "execution_count": 41,
     "metadata": {},
     "output_type": "execute_result"
    }
   ],
   "source": [
    "tonka_truck.rooftop\n",
    "hotwheels_car.wheels"
   ]
  },
  {
   "cell_type": "markdown",
   "metadata": {},
   "source": [
    "##### Setting Defaults for Attributes"
   ]
  },
  {
   "cell_type": "code",
   "execution_count": 51,
   "metadata": {},
   "outputs": [
    {
     "data": {
      "text/plain": [
       "'Orange'"
      ]
     },
     "execution_count": 51,
     "metadata": {},
     "output_type": "execute_result"
    }
   ],
   "source": [
    "class Car():\n",
    "    engine = \"5.4 L\"\n",
    "    \n",
    "    def __init__(self, wheels):\n",
    "        self.wheels = wheels\n",
    "        self.color = \"Orange\"\n",
    "        \n",
    "honda = Car(4)\n",
    "honda.color\n",
    "    "
   ]
  },
  {
   "cell_type": "code",
   "execution_count": null,
   "metadata": {},
   "outputs": [],
   "source": []
  },
  {
   "cell_type": "code",
   "execution_count": null,
   "metadata": {},
   "outputs": [],
   "source": []
  },
  {
   "cell_type": "markdown",
   "metadata": {},
   "source": [
    "##### Changing Class Attributes <br>\n",
    "<p>Keep in mind there are global class attributes and then there are attributes only available to each class instance which won't effect other classes.</p>"
   ]
  },
  {
   "cell_type": "code",
   "execution_count": 52,
   "metadata": {},
   "outputs": [
    {
     "name": "stdout",
     "output_type": "stream",
     "text": [
      "Before change: Orange\n",
      "After change: black\n",
      "Orange\n"
     ]
    }
   ],
   "source": [
    "jeep = Car(8)\n",
    "print(f\"Before change: {jeep.color}\")\n",
    "\n",
    "\n",
    "jeep.color =\"black\"\n",
    "\n",
    "print(f\"After change: {jeep.color}\")\n",
    "print(honda.color)"
   ]
  },
  {
   "cell_type": "code",
   "execution_count": null,
   "metadata": {},
   "outputs": [],
   "source": []
  },
  {
   "cell_type": "markdown",
   "metadata": {},
   "source": [
    "##### In-Class Exercise #2 - Add a doors and seats attribute to your 'Car' class then print out two different instances with different doors and seats"
   ]
  },
  {
   "cell_type": "code",
   "execution_count": 103,
   "metadata": {},
   "outputs": [
    {
     "name": "stdout",
     "output_type": "stream",
     "text": [
      "Honda doors: 5 \n",
      "Honda seats: 6\n",
      "Maybach doors: 3 \n",
      "Maybach seats: 2\n"
     ]
    }
   ],
   "source": [
    "class Car():\n",
    "    engine = \"5.4 L\"\n",
    "    \n",
    "    def __init__(self, doors, seats):\n",
    "        self.doors = doors\n",
    "        self.seats = seats\n",
    "        \n",
    "\n",
    "honda = Car(5, 6)\n",
    "print(f\"Honda doors: {honda.doors} \\nHonda seats: {honda.seats}\")\n",
    "\n",
    "maybach = Car(3, 2)\n",
    "print(f\"Maybach doors: {maybach.doors} \\nMaybach seats: {maybach.seats}\")"
   ]
  },
  {
   "cell_type": "code",
   "execution_count": null,
   "metadata": {},
   "outputs": [],
   "source": []
  },
  {
   "cell_type": "markdown",
   "metadata": {},
   "source": [
    "## Class Methods <br>\n",
    "<p>While inside of a class, functions are referred to as 'methods'. If you hear someone mention methods, they're speaking about classes. Methods are essentially functions, but only callable on the instances of a class.</p>"
   ]
  },
  {
   "cell_type": "markdown",
   "metadata": {},
   "source": [
    "##### Creating"
   ]
  },
  {
   "cell_type": "code",
   "execution_count": 269,
   "metadata": {},
   "outputs": [],
   "source": [
    "class ShoppingBag():\n",
    "    \"\"\"\n",
    "        The shopping bag class will have \n",
    "            handles, \n",
    "            capacity, and \n",
    "            items to place inside.\n",
    "            \n",
    "        Attributes of the class:\n",
    "            1. handles(int)\n",
    "            2. capacity(int) or (str), and\n",
    "            3. items (list)\n",
    "    \"\"\"\n",
    "    def __init__(self, handles, capacity, items):\n",
    "        self.handles = handles\n",
    "        self.capacity = capacity\n",
    "        self.items = items\n",
    "    \n",
    "    def showShoppingBag(self):\n",
    "        print(\"These are the items in the bag: \")\n",
    "        for items in self.items:\n",
    "            print(f\"\\t{items}\")\n",
    "            \n",
    "    def showCapacity(self):\n",
    "        for items in self.items:\n",
    "            itemsTtl = len(self.items)\n",
    "#             sumItems = sum(self.capacity- (itemsTtl))\n",
    "        print(f\"Initially there were 0 items in the bag. \\nYou added {itemsTtl} items to the bag.\")\n",
    "        print(f\"You have a total of {(itemsTtl)} items in the bag. \\nThere is room for {self.capacity - itemsTtl} items.\")\n",
    "    \n",
    "    def addToShoppingBag(self):\n",
    "        products = input(\"What would you like to add? \")\n",
    "        self.items.append(products)\n",
    "        \n",
    "    def changeBagCapacity(self, capacity):\n",
    "        self.capacity = capacity\n",
    "        \n",
    "    def increaseCapacity(self, changed_capacity = 10):\n",
    "        if self.capacity == isinstance(self.capacity, str):\n",
    "            print(\"IMPROPER ITEM: Cannot add that.\")\n",
    "        else:\n",
    "            self.capacity += changed_capacity"
   ]
  },
  {
   "cell_type": "markdown",
   "metadata": {},
   "source": [
    "##### Calling"
   ]
  },
  {
   "cell_type": "code",
   "execution_count": null,
   "metadata": {},
   "outputs": [],
   "source": []
  },
  {
   "cell_type": "code",
   "execution_count": 268,
   "metadata": {},
   "outputs": [
    {
     "name": "stdout",
     "output_type": "stream",
     "text": [
      "What would you like to do? \tAdd \tShow \tor \tQuit \n",
      "add\n",
      "What would you like to add?candy\n",
      "What would you like to do? \tAdd \tShow \tor \tQuit \n",
      "add\n",
      "What would you like to add?cheese\n",
      "What would you like to do? \tAdd \tShow \tor \tQuit \n",
      "add\n",
      "What would you like to add?milk\n",
      "What would you like to do? \tAdd \tShow \tor \tQuit \n",
      "add\n",
      "What would you like to add?diapers\n",
      "What would you like to do? \tAdd \tShow \tor \tQuit \n",
      "quit\n",
      "These are the items in the bag: \n",
      "\tcandy\n",
      "\tcheese\n",
      "\tmilk\n",
      "\tdiapers\n",
      "Thank you for shopping here! Come back soon!\n"
     ]
    }
   ],
   "source": [
    "wholeFoods_bag = ShoppingBag(2, 15, [])\n",
    "\n",
    "def run():\n",
    "    while True:\n",
    "        response = input(\"What would you like to do? \\tAdd \\tShow \\tor \\tQuit \\n\")\n",
    "        \n",
    "        if response.lower() == \"quit\":\n",
    "            wholeFoods_bag.showShoppingBag()\n",
    "            print(f\"Thank you for shopping here! Come back soon!\")\n",
    "            break\n",
    "        \n",
    "        elif response.lower() == \"add\":\n",
    "            wholeFoods_bag.addToShoppingBag()\n",
    "            \n",
    "        elif response.lower() == \"show\":\n",
    "            wholeFoods_bag.showShoppingBag()\n",
    "        \n",
    "        else:\n",
    "            print(\"You cannot do that in this shopping bag.\")\n",
    "            \n",
    "run()      "
   ]
  },
  {
   "cell_type": "markdown",
   "metadata": {},
   "source": [
    "##### Modifying an Attribute's Value Through a Method"
   ]
  },
  {
   "cell_type": "code",
   "execution_count": 270,
   "metadata": {},
   "outputs": [
    {
     "name": "stdout",
     "output_type": "stream",
     "text": [
      "Initially there were 0 items in the bag. \n",
      "You added 4 items to the bag.\n",
      "You have a total of 4 items in the bag. \n",
      "There is room for 11 items.\n",
      "Capacity AFTER the change...\n",
      "Initially there were 0 items in the bag. \n",
      "You added 4 items to the bag.\n",
      "You have a total of 4 items in the bag. \n",
      "There is room for 46 items.\n"
     ]
    }
   ],
   "source": [
    "wholeFoods_bag.showCapacity()\n",
    "\n",
    "print(\"Capacity AFTER the change...\")\n",
    "\n",
    "wholeFoods_bag.changeBagCapacity(50)\n",
    "\n",
    "wholeFoods_bag.showCapacity()"
   ]
  },
  {
   "cell_type": "markdown",
   "metadata": {},
   "source": [
    "##### Incrementing an Attribute's Value Through a Method"
   ]
  },
  {
   "cell_type": "code",
   "execution_count": 271,
   "metadata": {},
   "outputs": [
    {
     "name": "stdout",
     "output_type": "stream",
     "text": [
      "Initially there were 0 items in the bag. \n",
      "You added 4 items to the bag.\n",
      "You have a total of 4 items in the bag. \n",
      "There is room for 46 items.\n",
      "AFTER Increase\n",
      "Initially there were 0 items in the bag. \n",
      "You added 4 items to the bag.\n",
      "You have a total of 4 items in the bag. \n",
      "There is room for 56 items.\n"
     ]
    }
   ],
   "source": [
    "wholeFoods_bag.showCapacity()\n",
    "print(\"AFTER Increase\")\n",
    "wholeFoods_bag.increaseCapacity()\n",
    "wholeFoods_bag.showCapacity()"
   ]
  },
  {
   "cell_type": "markdown",
   "metadata": {},
   "source": [
    "##### In-Class Exercise #3 - Add a method that takes in three parameters of year, doors and seats and prints out a formatted print statement with make, model, year, seats, and doors"
   ]
  },
  {
   "cell_type": "code",
   "execution_count": null,
   "metadata": {},
   "outputs": [],
   "source": []
  },
  {
   "cell_type": "code",
   "execution_count": 279,
   "metadata": {},
   "outputs": [
    {
     "name": "stdout",
     "output_type": "stream",
     "text": [
      "The car is a 2024 Honda Accord. It has 5 seats and 4 doors.\n"
     ]
    }
   ],
   "source": [
    "class Car():\n",
    "    \n",
    "    carMake = \"Honda\"\n",
    "    carModel = \"Accord\"\n",
    "    \n",
    "    def __init__(self, year, doors, seats):\n",
    "        self.year = year\n",
    "        self.doors = doors\n",
    "        self.seats = seats\n",
    "\n",
    "honda = Car(2024, 4, 5)            \n",
    "print(f\"The car is a {honda.year} {honda.carMake} {honda.carModel}. It has {honda.seats} seats and {honda.doors} doors.\")"
   ]
  },
  {
   "cell_type": "markdown",
   "metadata": {},
   "source": [
    "## Inheritance <br>\n",
    "<p>You can create a child-parent relationship between two classes by using inheritance. What this allows you to do is have overriding methods, but also inherit traits from the parent class. Think of it as an actual parent and child, the child will inherit the parent's genes, as will the classes in OOP</p>"
   ]
  },
  {
   "cell_type": "markdown",
   "metadata": {},
   "source": [
    "##### Syntax for Inheriting from a Parent Class"
   ]
  },
  {
   "cell_type": "code",
   "execution_count": 296,
   "metadata": {},
   "outputs": [
    {
     "name": "stdout",
     "output_type": "stream",
     "text": [
      "Woof\n",
      "Random animal sounds.\n",
      "None\n",
      "9.8\n",
      "15\n",
      "The Dog has a speed of 15 mph and an acceleration of 9.8 mph/s. \n",
      "None\n"
     ]
    }
   ],
   "source": [
    "#Parent Class\n",
    "class Animal():\n",
    "    acceleration = 9.8\n",
    "    \n",
    "    def __init__(self, name, species, legs = 4):\n",
    "        self. name = name\n",
    "        self.species = species\n",
    "        self.legs = legs\n",
    "    \n",
    "    #Generic parent method\n",
    "    def makeSound(self):\n",
    "        print(\"Random animal sounds.\")\n",
    "   \n",
    "\n",
    "#Child Class\n",
    "class Dog(Animal):\n",
    "    speed = 15\n",
    "    \n",
    "    \n",
    "    def printInfo(self):\n",
    "        print(f\"The Dog has a speed of {self.speed} mph and an acceleration of {self.acceleration} mph/s. \")\n",
    "        \n",
    "#Child within child class\n",
    "class PitBull(Dog):\n",
    "    color = \"Black\"\n",
    "    \n",
    "    #Overwrite the Animal class using the Dog class to rewrite the __init__\n",
    "    def __init__(self, name, species, eye_color, legs=4):\n",
    "        Dog.__init__(self, name, species, legs)\n",
    "        self.eye_color =  eye_color\n",
    "        \n",
    "        \n",
    "    #Override make sounds\n",
    "    def makeSound(self):\n",
    "        noise = \"Woof\"\n",
    "        return noise\n",
    "    \n",
    "old_yeller = Dog(\"Old Yeller\", \"Dog\")\n",
    "basic_Animal = Animal(\"Generic Animal Name\", \"Generic Animal Species\")\n",
    "cujo = PitBull(\"Cujo\", \"Pit Bull\", \"Red\")\n",
    "\n",
    "print(cujo.makeSound())\n",
    "print(old_yeller.makeSound())\n",
    "print(cujo.acceleration)\n",
    "print(cujo.speed)\n",
    "print(cujo.printInfo())"
   ]
  },
  {
   "cell_type": "code",
   "execution_count": null,
   "metadata": {},
   "outputs": [],
   "source": []
  },
  {
   "cell_type": "markdown",
   "metadata": {},
   "source": [
    "##### The \\__init\\__() Method for a Child Class - super()"
   ]
  },
  {
   "cell_type": "code",
   "execution_count": 297,
   "metadata": {
    "scrolled": true
   },
   "outputs": [
    {
     "name": "stdout",
     "output_type": "stream",
     "text": [
      "Aarf\n",
      "Random animal sounds.\n",
      "None\n",
      "9.8\n",
      "15\n",
      "The Dog has a speed of 15 mph and an acceleration of 9.8 mph/s. \n",
      "None\n"
     ]
    }
   ],
   "source": [
    "class PitBull(Dog):\n",
    "    color = \"Brown\"\n",
    "    \n",
    "    #override Animal class __init__\n",
    "    def __init__(self, name, species, eye_color, legs= 4):\n",
    "        super().__init__(name, species, legs)\n",
    "        self.eye_color = eye_color\n",
    "        \n",
    "    def makeSound(self):\n",
    "        noise = \"Aarf\"\n",
    "        return noise\n",
    "    \n",
    "old_yeller = Dog(\"Old Yeller\", \"Dog\")\n",
    "basic_Animal = Animal(\"Generic Animal Name\", \"Generic Animal Species\")\n",
    "cujo = PitBull(\"Cujo\", \"Pit Bull\", \"Red\")\n",
    "\n",
    "print(cujo.makeSound())\n",
    "print(old_yeller.makeSound())\n",
    "print(cujo.acceleration)\n",
    "print(cujo.speed)\n",
    "print(cujo.printInfo())  "
   ]
  },
  {
   "cell_type": "markdown",
   "metadata": {},
   "source": [
    "##### Defining Attributes and Methods for the Child Class"
   ]
  },
  {
   "cell_type": "code",
   "execution_count": null,
   "metadata": {},
   "outputs": [],
   "source": []
  },
  {
   "cell_type": "markdown",
   "metadata": {},
   "source": [
    "##### Method Overriding"
   ]
  },
  {
   "cell_type": "code",
   "execution_count": null,
   "metadata": {},
   "outputs": [],
   "source": [
    "# See Above"
   ]
  },
  {
   "cell_type": "markdown",
   "metadata": {},
   "source": [
    "## Classes as Attributes <br>\n",
    "<p>Classes can also be used as attributes within another class. This is useful in situations where you need to keep variables locally stored, instead of globally stored.</p>"
   ]
  },
  {
   "cell_type": "code",
   "execution_count": 300,
   "metadata": {},
   "outputs": [
    {
     "name": "stdout",
     "output_type": "stream",
     "text": [
      "20\n"
     ]
    },
    {
     "data": {
      "text/plain": [
       "'2025 Tesla Model LMNOP 20'"
      ]
     },
     "execution_count": 300,
     "metadata": {},
     "output_type": "execute_result"
    }
   ],
   "source": [
    "class Battery():\n",
    "    volts = 7.9\n",
    "    \n",
    "    def __init__(self, cells):\n",
    "        self.cells = cells\n",
    "        \n",
    "    \n",
    "class Car():\n",
    "    def __init__(self, year, make, model, battery):\n",
    "        self.year = year\n",
    "        self.make = make\n",
    "        self.model = model\n",
    "        self.battery = battery\n",
    "        \n",
    "        \n",
    "    def printInfo(self):\n",
    "        return f\"{self.year} {self.make} {self.model} {self.battery.cells}\" \n",
    "\n",
    "    \n",
    "car_battery = Battery(20)\n",
    "tesla = Car(2025, \"Tesla\", \"Model LMNOP\", car_battery)\n",
    "print(tesla.battery.cells)\n",
    "tesla.printInfo()"
   ]
  },
  {
   "cell_type": "markdown",
   "metadata": {},
   "source": [
    "# Exercises"
   ]
  },
  {
   "cell_type": "markdown",
   "metadata": {},
   "source": [
    "### Exercise 1 - Turn the shopping cart program from yesterday into an object-oriented program\n",
    "\n",
    "The comments in the cell below are there as a guide for thinking about the problem. However, if you feel a different way is best for you and your own thought process, please do what feels best for you by all means."
   ]
  },
  {
   "cell_type": "code",
   "execution_count": null,
   "metadata": {},
   "outputs": [],
   "source": []
  },
  {
   "cell_type": "code",
   "execution_count": null,
   "metadata": {},
   "outputs": [
    {
     "name": "stdout",
     "output_type": "stream",
     "text": [
      "Do you want to : Show/Add/Delete or Quit? add\n",
      "What would you like to add? milk\n",
      "What is the cost of this item? 4.99\n",
      "Would you like to add more? yes\n",
      "What would you like to add? candy\n",
      "What is the cost of this item? 5.99\n",
      "Would you like to add more? yes\n",
      "What would you like to add? tea\n",
      "What is the cost of this item? 7.99\n",
      "Would you like to add more? yes\n",
      "What would you like to add? eggs\n",
      "What is the cost of this item? 5.99\n",
      "Would you like to add more? yes\n",
      "What would you like to add? juice\n",
      "What is the cost of this item? 11.99\n",
      "Would you like to add more? show\n",
      "Do you want to : Show/Add/Delete or Quit? show\n",
      "milk  :  4.99\n",
      "candy  :  5.99\n",
      "tea  :  7.99\n",
      "eggs  :  5.99\n",
      "juice  :  11.99\n",
      "The length of the shopping list is: 5 \n",
      "The total sum of items is:  $36.95\n",
      "Do you want to : Show/Add/Delete or Quit? delete\n",
      "What would you like to delete?juice\n",
      "Would you like to delete more?no\n",
      "Do you want to : Show/Add/Delete or Quit? quit\n",
      "milk  :  4.99\n",
      "candy  :  5.99\n",
      "tea  :  7.99\n",
      "eggs  :  5.99\n",
      "The length of the shopping list is: 4 \n",
      "The total sum of items is:  $24.96\n"
     ]
    }
   ],
   "source": [
    "#Create a class called cart that retains items and has methods to add, remove, and show\n",
    "\n",
    "\n",
    "\n",
    "class Cart():\n",
    "    \n",
    "            \n",
    "    def __init__(self, items, totalItems = {}):\n",
    "        self.items = items\n",
    "        self.totalItems = totalItems\n",
    "     \n",
    "        \n",
    "    def addCartItems(self):\n",
    "        addItems = input(\"What would you like to add? \")\n",
    "        addPrice = float(input(\"What is the cost of this item? \"))\n",
    "        self.totalItems[addItems] = addPrice\n",
    "        endAdd = input(\"Would you like to add more? \")\n",
    "        if endAdd.lower() == \"yes\":\n",
    "            NewFeatures.addCartItems()\n",
    "            \n",
    "    def deleteCartItems(self):\n",
    "        deleteItems = input(\"What would you like to delete?\")\n",
    "        del self.totalItems[deleteItems]\n",
    "        endDelete = input(\"Would you like to delete more?\")\n",
    "        if endDelete.lower() == \"yes\":\n",
    "            NewFeatures.deleteCartItems()\n",
    "                    \n",
    "                    \n",
    "    def showCartItems(self):\n",
    "        [print(k, \" : \", v) for k, v in self.totalItems.items()]\n",
    "        print(f\"The length of the shopping list is: {len(self.totalItems.keys())} \\nThe total sum of items is:  ${sum(self.totalItems.values()):.2f}\") \n",
    "\n",
    "            \n",
    "    def quit(self):\n",
    "        [print(k, \" : \", v) for k, v in self.totalItems.items()]\n",
    "        print(f\"The length of the shopping list is: {len(self.totalItems.keys())} \\nThe total sum of items is:  ${sum(self.totalItems.values()):.2f}\")\n",
    "\n",
    "\n",
    "NewFeatures = Cart({})\n",
    "\n",
    "while True:\n",
    "    question = input(\"Do you want to : Show/Add/Delete or Quit? \")\n",
    "    if question.lower() == \"add\":\n",
    "        NewFeatures.addCartItems()\n",
    "    elif question.lower() == \"delete\":\n",
    "        NewFeatures.deleteCartItems()\n",
    "    elif question.lower() == \"show\":\n",
    "        NewFeatures.showCartItems()\n",
    "    elif question.lower() == \"quit\":\n",
    "        NewFeatures.quit()\n",
    "    else:\n",
    "        break\n",
    "\n",
    "\n",
    "    \n",
    "    \n",
    "    \n",
    "    \n",
    "    \n",
    "print(Cart({}))\n",
    "\n",
    "     "
   ]
  },
  {
   "cell_type": "code",
   "execution_count": null,
   "metadata": {},
   "outputs": [],
   "source": []
  },
  {
   "cell_type": "markdown",
   "metadata": {},
   "source": [
    "### Exercise 2 - Write a Python class which has two methods get_String and print_String. get_String accept a string from the user and print_String print the string in upper case"
   ]
  },
  {
   "cell_type": "code",
   "execution_count": 469,
   "metadata": {},
   "outputs": [
    {
     "name": "stdout",
     "output_type": "stream",
     "text": [
      "This was your input: PRINTED INPUT\n",
      "Input something here: evening\n",
      "This is what you input: EVENING\n"
     ]
    }
   ],
   "source": [
    "class StringManipulation():\n",
    "    \n",
    "    def __init__(self, stringIn):\n",
    "        self.stringIn = stringIn\n",
    "        \n",
    "    \n",
    "    def get_String(self):\n",
    "        stringIn = input(\"Input something here: \")\n",
    "        return (f\"This is what you input: {stringIn.upper()}\")\n",
    "        \n",
    "        \n",
    "    def print_String(self):\n",
    "        return (f\"This was your input: {self.stringIn.upper()}\")\n",
    " \n",
    "\n",
    "\n",
    "input1 = StringManipulation(\"Printed Input\")\n",
    "print(input1.print_String())\n",
    "\n",
    "print(StringManipulation.get_String(\"self\"))\n"
   ]
  },
  {
   "cell_type": "code",
   "execution_count": null,
   "metadata": {},
   "outputs": [],
   "source": [
    "s"
   ]
  }
 ],
 "metadata": {
  "kernelspec": {
   "display_name": "Python 3.10.6 64-bit",
   "language": "python",
   "name": "python3"
  },
  "language_info": {
   "codemirror_mode": {
    "name": "ipython",
    "version": 3
   },
   "file_extension": ".py",
   "mimetype": "text/x-python",
   "name": "python",
   "nbconvert_exporter": "python",
   "pygments_lexer": "ipython3",
   "version": "3.10.6"
  },
  "vscode": {
   "interpreter": {
    "hash": "aee8b7b246df8f9039afb4144a1f6fd8d2ca17a180786b69acc140d282b71a49"
   }
  }
 },
 "nbformat": 4,
 "nbformat_minor": 2
}
